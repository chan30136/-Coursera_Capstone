{
 "cells": [
  {
   "cell_type": "code",
   "execution_count": 1,
   "metadata": {},
   "outputs": [],
   "source": [
    "import pandas as pd\n",
    "import numpy as np"
   ]
  },
  {
   "cell_type": "markdown",
   "metadata": {},
   "source": [
    "### Read the table from the website:"
   ]
  },
  {
   "cell_type": "code",
   "execution_count": 242,
   "metadata": {},
   "outputs": [],
   "source": [
    "\n",
    "tables = pd.read_html(\"https://en.wikipedia.org/wiki/List_of_postal_codes_of_Canada:_M\",header=0)\n",
    "data=np.array(tables[0])\n"
   ]
  },
  {
   "cell_type": "markdown",
   "metadata": {},
   "source": [
    "### Append data to the columns:"
   ]
  },
  {
   "cell_type": "code",
   "execution_count": 81,
   "metadata": {},
   "outputs": [],
   "source": [
    "column_names = ['Postal Code','Borough','Neighborhood'] \n",
    "neighborhoods = pd.DataFrame(columns=column_names)\n",
    "\n",
    "\n",
    "Postal_Code = [item[0] for item in data]\n",
    "Borough = [item[1] for item in data]\n",
    "Neighborhood = [item[2] for item in data]\n",
    "\n",
    "\n",
    "neigh = neighborhoods.append({'Postal Code': Postal_Code,'Borough': Borough,'Neighborhood': Neighborhood},ignore_index=True)\n"
   ]
  },
  {
   "cell_type": "markdown",
   "metadata": {},
   "source": [
    "### Clean the dataframe"
   ]
  },
  {
   "cell_type": "code",
   "execution_count": 241,
   "metadata": {},
   "outputs": [
    {
     "data": {
      "text/plain": [
       "(103, 3)"
      ]
     },
     "execution_count": 241,
     "metadata": {},
     "output_type": "execute_result"
    }
   ],
   "source": [
    "### Split data into different rows\n",
    "def split_data_frame_list(df, target_column):\n",
    " \n",
    "    col_df = pd.DataFrame(df[target_column].dropna().tolist(),index=df[target_column].dropna().index)\n",
    "    stacked = col_df.stack()\n",
    "    index = stacked.index.rename(names=\"idx\", level=-1)\n",
    "    new_df = pd.DataFrame(stacked, index=index, columns=[target_column])\n",
    "    return new_df\n",
    "P=split_data_frame_list(neigh,'Postal Code')\n",
    "B=split_data_frame_list(neigh,'Borough')\n",
    "N=split_data_frame_list(neigh,'Neighborhood')\n",
    "result = pd.concat([P, B,N], axis=1, sort=False)\n",
    "###drop rows with no values from the Borough columns\n",
    "df = result[result.Borough != 'Not assigned']\n",
    "### Turn Neighborhood values into Borough values if the Neighborhood value is Not assigned\n",
    "df.loc[df['Neighborhood']==\"Not assigned\",'Neighborhood']=df.loc[df['Neighborhood']==\"Not assigned\",'Borough']\n",
    "### reset index\n",
    "new=df.reset_index()\n",
    "new_df=new.iloc[:,2:6]\n",
    "new_df.shape"
   ]
  },
  {
   "cell_type": "code",
   "execution_count": null,
   "metadata": {},
   "outputs": [],
   "source": []
  },
  {
   "cell_type": "code",
   "execution_count": null,
   "metadata": {},
   "outputs": [],
   "source": []
  }
 ],
 "metadata": {
  "kernelspec": {
   "display_name": "Python 3.6",
   "language": "python",
   "name": "python3"
  },
  "language_info": {
   "codemirror_mode": {
    "name": "ipython",
    "version": 3
   },
   "file_extension": ".py",
   "mimetype": "text/x-python",
   "name": "python",
   "nbconvert_exporter": "python",
   "pygments_lexer": "ipython3",
   "version": "3.6.9"
  }
 },
 "nbformat": 4,
 "nbformat_minor": 1
}
